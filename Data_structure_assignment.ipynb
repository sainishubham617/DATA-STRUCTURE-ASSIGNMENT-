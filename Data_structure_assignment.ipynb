{
  "nbformat": 4,
  "nbformat_minor": 0,
  "metadata": {
    "colab": {
      "provenance": []
    },
    "kernelspec": {
      "name": "python3",
      "display_name": "Python 3"
    },
    "language_info": {
      "name": "python"
    }
  },
  "cells": [
    {
      "cell_type": "markdown",
      "source": [
        "Q1. What are data structures, and why are they important\n",
        "\n",
        "Ans Data structures are specialized formats for organizing, storing, and accessing collections of data. They provide efficient ways to manage information based on its characteristics and intended use.\n",
        "Think of them as containers that hold your data and determine how you can interact with it. Different containers are better suited for different types of items.\n",
        "\n",
        "Importance of data structues -:\n",
        "1. Choosing the right data structure significantly impacts the efficiency and performance of your program.\n",
        "2. Well-chosen data structures can:\n",
        "3. Simplify data manipulation (adding, removing, modifying elements)\n",
        "4. Optimize searching and sorting operations\n",
        "5. Conserve memory usage\n",
        "\n",
        "\n",
        "\n",
        "\n"
      ],
      "metadata": {
        "id": "QYItcaGPrEVm"
      }
    },
    {
      "cell_type": "markdown",
      "source": [
        "Q2.  Explain the difference between mutable and immutable data types with examples\n",
        "\n",
        "\n",
        "Ans2. Diffrence in mutable and immutable object in python :-\n",
        "\n",
        "1. In Python, objects can be either changeable (modifiable) or unchangeable (unchangeable).Mutable objects are changeable and immutable object are unchangeable.\n",
        "2. Mutable objects, such as lists and dictionaries, can be modified after creation, while immutable objects, such as tuples and strings, cannot.\n",
        "3. Mutability affects how objects are stored and manipulated in memory, impacting performance, memory usage, and concurrency in Python programs.\n",
        "4. exmpale of mutable & immutable\n",
        "mutable:-\n",
        "\n",
        "\n"
      ],
      "metadata": {
        "id": "f-0WjA2UsgwR"
      }
    },
    {
      "cell_type": "code",
      "source": [
        "#mutabl\n",
        "list_count = [1,2,3,4,5, \"ajat\"]\n"
      ],
      "metadata": {
        "id": "ipGzE6m4sy18"
      },
      "execution_count": null,
      "outputs": []
    },
    {
      "cell_type": "code",
      "source": [
        "list_count\n"
      ],
      "metadata": {
        "colab": {
          "base_uri": "https://localhost:8080/"
        },
        "id": "34IIozmws_DS",
        "outputId": "1ec47670-d76d-4c07-8c35-086acf42db83"
      },
      "execution_count": null,
      "outputs": [
        {
          "output_type": "execute_result",
          "data": {
            "text/plain": [
              "[1, 2, 3, 4, 5, 'ajat']"
            ]
          },
          "metadata": {},
          "execution_count": 10
        }
      ]
    },
    {
      "cell_type": "code",
      "source": [
        "list_count[0] = 8\n"
      ],
      "metadata": {
        "id": "U8-EwGtWtQdj"
      },
      "execution_count": null,
      "outputs": []
    },
    {
      "cell_type": "code",
      "source": [
        "list_count # list is a mutable type variable"
      ],
      "metadata": {
        "colab": {
          "base_uri": "https://localhost:8080/"
        },
        "id": "LjD2jDlotYQr",
        "outputId": "c71c1eb4-86a7-4b0a-e817-d439dcc628f8"
      },
      "execution_count": null,
      "outputs": [
        {
          "output_type": "execute_result",
          "data": {
            "text/plain": [
              "[8, 2, 3, 4, 5, 'ajat']"
            ]
          },
          "metadata": {},
          "execution_count": 12
        }
      ]
    },
    {
      "cell_type": "code",
      "source": [
        "#immutable\n",
        "stirng_count = [\"ajay\", \"vijay\", \"ajay\", \"vijay\"]"
      ],
      "metadata": {
        "id": "ISiWM_w6uQYf"
      },
      "execution_count": null,
      "outputs": []
    },
    {
      "cell_type": "code",
      "source": [
        "stirng_count # string is a immutable"
      ],
      "metadata": {
        "colab": {
          "base_uri": "https://localhost:8080/"
        },
        "id": "Z37MdxPGun-a",
        "outputId": "f8befae8-0e74-4862-bb7b-5ef406645748"
      },
      "execution_count": null,
      "outputs": [
        {
          "output_type": "execute_result",
          "data": {
            "text/plain": [
              "['ajay', 'vijay', 'ajay', 'vijay']"
            ]
          },
          "metadata": {},
          "execution_count": 14
        }
      ]
    },
    {
      "cell_type": "code",
      "source": [
        "stirng_count(1) == \"shubham\""
      ],
      "metadata": {
        "colab": {
          "base_uri": "https://localhost:8080/",
          "height": 141
        },
        "id": "PygJLNUHuvA8",
        "outputId": "7eb0f8da-d38c-4bed-de3a-653d126416df"
      },
      "execution_count": null,
      "outputs": [
        {
          "output_type": "error",
          "ename": "TypeError",
          "evalue": "'list' object is not callable",
          "traceback": [
            "\u001b[0;31m---------------------------------------------------------------------------\u001b[0m",
            "\u001b[0;31mTypeError\u001b[0m                                 Traceback (most recent call last)",
            "\u001b[0;32m<ipython-input-16-5b921aa19b1d>\u001b[0m in \u001b[0;36m<cell line: 0>\u001b[0;34m()\u001b[0m\n\u001b[0;32m----> 1\u001b[0;31m \u001b[0mstirng_count\u001b[0m\u001b[0;34m(\u001b[0m\u001b[0;36m1\u001b[0m\u001b[0;34m)\u001b[0m \u001b[0;34m==\u001b[0m \u001b[0;34m\"shubham\"\u001b[0m\u001b[0;34m\u001b[0m\u001b[0;34m\u001b[0m\u001b[0m\n\u001b[0m",
            "\u001b[0;31mTypeError\u001b[0m: 'list' object is not callable"
          ]
        }
      ]
    },
    {
      "cell_type": "markdown",
      "source": [
        "Q3. What are the main differences between lists and tuples in Python\n",
        "\n",
        "Ans3. 1. List is a Ordered, mutable collections of elements.and tuple is  Ordered, immutable collections of elements\n",
        "\n",
        "2.In list Operations: You can add, remove, or modify elements within a list using indexing and Tuple are Ordered, immutable collections of elements, similar to lists.\n"
      ],
      "metadata": {
        "id": "BO9soVqcvJhR"
      }
    },
    {
      "cell_type": "markdown",
      "source": [
        "Q4 Describe how dictionaries store data\n",
        "\n",
        "Ans4. Dictionaries store data in this manner way -:\n",
        "1. Unordered collections: Elements are not stored in a specific order.\n",
        "2. Unique key-value pairs: Each key acts as a unique identifier for retrieving an associated value.\n",
        "3. Flexible data: Keys and values can be of various data types (strings, numbers, lists, and even other dictionaries).\n"
      ],
      "metadata": {
        "id": "MFjy_NAqwpW1"
      }
    },
    {
      "cell_type": "markdown",
      "source": [
        "Q5 Why might you use a set instead of a list in Python\n",
        "\n",
        "Ans5 Set are used instead of list because of unordered collections of unique elements. The order doesn't matter, and duplicate entries are not allowed. Sets are useful for checking membership (if an item exists) or finding the intersection/difference between sets. Set is very useful for coding."
      ],
      "metadata": {
        "id": "6-sVCiVZaL-T"
      }
    },
    {
      "cell_type": "markdown",
      "source": [
        "Q6 What is a string in Python, and how is it different from a list\n",
        "\n",
        "Ans6 : String is a  characters arranged in an unchangeable order. Consider writing a sentence, a paragraph, or a piece of material. Each character in the string can be accessed by its index, or position. Substrings can be extracted using slicing. Strings can be joined together and altered using a variety of techniques (find, replace, etc.). differnce between in string & list is string is immutable and list is mutable.\n"
      ],
      "metadata": {
        "id": "FF-fF_nUbMl5"
      }
    },
    {
      "cell_type": "markdown",
      "source": [
        "Q7 How do tuples ensure data integrity in Python\n",
        "\n",
        "Ans7. Ordered, immutable collections of elements, similar to lists. However, once created, the items in a tuple cannot be changed. They provide a secure way to store data that shouldn't be modified. You can access elements using indexing and slicing, but you cannot modify the content. Tuples are useful for representing fixed datasets or configurations\n"
      ],
      "metadata": {
        "id": "MyY5u9ARcYGn"
      }
    },
    {
      "cell_type": "markdown",
      "source": [
        "Q8 What is a hash table, and how does it relate to dictionaries in Python\n",
        "\n",
        "Ans8 In Python, the Dictionary data types represent the implementation of hash tables. The Keys in the dictionary are hashable–they are generated by a hash function which generates a unique result for each unique value supplied to the hash function.\n",
        "example -:\n",
        "#zip function\n",
        "students  = [\"arun\", \"ajay\", \"bijay\"]\n",
        "marks = [80, 95, 100]\n",
        "\n",
        "for i in zip(students, marks):\n",
        "  print(i) # code hash function\n",
        "  result ('arun', 80)\n",
        "('ajay', 95)\n",
        "('bijay', 100)\n"
      ],
      "metadata": {
        "id": "rc5O-JbldS7m"
      }
    },
    {
      "cell_type": "markdown",
      "source": [
        "Q9 Can lists contain different data types in Python\n",
        "\n",
        "Ans9 You can add, remove, or modify elements within a list using indexing and slicing. Lists are versatile for storing and managing collections that might change.\n",
        "Example -:\n",
        "python shopping_list = [\"apples\", 2, \"milk\", True] # Mixed data types shopping_list.append(\"bread\") # Adding an item del shopping_list[1] # Removing the second item\n"
      ],
      "metadata": {
        "id": "_cnanmPXenej"
      }
    },
    {
      "cell_type": "code",
      "source": [
        "shoping_list = [\"apples\", 2, \"milk\", True]\n",
        "shoping_list"
      ],
      "metadata": {
        "colab": {
          "base_uri": "https://localhost:8080/"
        },
        "id": "-k1InJw9fjQq",
        "outputId": "22ea6a0e-1d46-4a35-edb6-c92f647ce47e"
      },
      "execution_count": null,
      "outputs": [
        {
          "output_type": "execute_result",
          "data": {
            "text/plain": [
              "['apples', 2, 'milk', True]"
            ]
          },
          "metadata": {},
          "execution_count": 1
        }
      ]
    },
    {
      "cell_type": "code",
      "source": [
        "shoping_list.append(\"bread\")"
      ],
      "metadata": {
        "id": "XJgFLafvfsxc"
      },
      "execution_count": null,
      "outputs": []
    },
    {
      "cell_type": "code",
      "source": [
        "shoping_list"
      ],
      "metadata": {
        "colab": {
          "base_uri": "https://localhost:8080/"
        },
        "id": "mxJVwlNef0mj",
        "outputId": "607b4823-e7a5-44ee-9448-a8d25590cfb4"
      },
      "execution_count": null,
      "outputs": [
        {
          "output_type": "execute_result",
          "data": {
            "text/plain": [
              "['apples', 2, 'milk', True, 'bread']"
            ]
          },
          "metadata": {},
          "execution_count": 3
        }
      ]
    },
    {
      "cell_type": "code",
      "source": [
        "shoping_list.remove(2)"
      ],
      "metadata": {
        "id": "9EUwRj9Kf2IX"
      },
      "execution_count": null,
      "outputs": []
    },
    {
      "cell_type": "code",
      "source": [
        "shoping_list"
      ],
      "metadata": {
        "colab": {
          "base_uri": "https://localhost:8080/"
        },
        "id": "ynQkQe64f4vT",
        "outputId": "032b106e-85e4-4137-f870-3a39c3bc3f62"
      },
      "execution_count": null,
      "outputs": [
        {
          "output_type": "execute_result",
          "data": {
            "text/plain": [
              "['apples', 'milk', True, 'bread']"
            ]
          },
          "metadata": {},
          "execution_count": 5
        }
      ]
    },
    {
      "cell_type": "markdown",
      "source": [
        "Q10 Explain why strings are immutable in Python\n",
        "\n",
        "Ans10 Strings are immutable in Python for reasons related to efficiency, safety, and design principles. Immutability means that once a string is created, its value cannot be changed. Any operation that appears to modify a string instead creates a new string object.\n",
        "\n"
      ],
      "metadata": {
        "id": "Cz7yu8gff8L3"
      }
    },
    {
      "cell_type": "markdown",
      "source": [
        "Q11 What advantages do dictionaries offer over lists for certain tasks\n",
        "\n",
        "Ans11. So it is more efficient to use dictionaries for the searching of elements as it can be carried out in a much faster manner. Lists are used when it is important to maintain the order of the elements and dealing with data that may get changed in the future.\n",
        "\n"
      ],
      "metadata": {
        "id": "IjXICJRVgVkx"
      }
    },
    {
      "cell_type": "markdown",
      "source": [
        "Q12  Describe a scenario where using a tuple would be preferable over a list\n",
        "\n",
        "Ans12. You can access elements using indexing and slicing, but you cannot modify the content. Tuples are useful for representing fixed datasets or configurations. There may be some occasions when you don't want your data to be changed. If you have data that's not meant to be changed in the first place — such as critical information or records — you should choose tuple data type over lists.\n",
        "\n"
      ],
      "metadata": {
        "id": "hbX70JR4hCB1"
      }
    },
    {
      "cell_type": "markdown",
      "source": [
        "Q13 How do sets handle duplicate values in Python\n",
        "\n",
        "Ans13 You can add or remove elements from a set, but you cannot access elements by index (since order doesn't matter). Set operations like union (combining elements), intersection (finding common elements), and difference (finding elements in one set but not the other) are efficient.\n",
        "\n",
        "Example: ```python unique_fruits = {\"apple\", \"banana\", \"apple\"} # Duplicates are removed if \"orange\" in unique_fruits: # Checking membership print(\"Yes, orange is present\")\n",
        "\n"
      ],
      "metadata": {
        "id": "R2SoiZdziFme"
      }
    },
    {
      "cell_type": "code",
      "source": [
        "#set\n",
        "s1 = {\"apple\", \"banana\", \"apple\"}\n",
        "s2 = {\"apple\", \"banana\", \"apple\"}\n"
      ],
      "metadata": {
        "id": "mF0Nzk3Nih0s"
      },
      "execution_count": null,
      "outputs": []
    },
    {
      "cell_type": "code",
      "source": [
        "s1|s2"
      ],
      "metadata": {
        "colab": {
          "base_uri": "https://localhost:8080/"
        },
        "id": "gCN1YgTtk15l",
        "outputId": "4f96efa2-c504-4d65-b238-6cc53be75dec"
      },
      "execution_count": null,
      "outputs": [
        {
          "output_type": "execute_result",
          "data": {
            "text/plain": [
              "{'apple', 'banana'}"
            ]
          },
          "metadata": {},
          "execution_count": 16
        }
      ]
    },
    {
      "cell_type": "markdown",
      "source": [
        "Q14 How does the “in” keyword work differently for lists and dictionaries\n",
        "\n",
        "Ans14 The in and not in operator works on dictionaries; it tells you whether something appears or not as a key in the dictionary. It returns two values True or False. The in operator uses different algorithms for lists and dictionaries. For lists, it uses a search algorithm.3 Jan 2017\n",
        "\n"
      ],
      "metadata": {
        "id": "QX72QBWMmGH9"
      }
    },
    {
      "cell_type": "markdown",
      "source": [
        "Q15 Can you modify the elements of a tuple? Explain why or why not\n",
        "\n",
        "Ans15  No, you cannot directly modify the elements of a tuple after it is created. Tuples are immutable, meaning their contents cannot be changed once they are defined. This is a core characteristic that distinguishes tuples from lists, which are mutable.\n",
        "Explanation:\n",
        "Immutability: Tuples are designed to be immutable, meaning you cannot add, remove, or change elements after the tuple is created.\n",
        "Why Tuples are Immutable: Immutability provides several benefits, including:\n",
        "Data Integrity: It ensures that the data within a tuple remains consistent throughout its lifespan.\n",
        "Memory Efficiency: Python can optimize memory usage for immutable objects, as it doesn't need to track changes.\n",
        "Hashability: Because tuples are immutable, they can be used as keys in dictionaries, a feature that mutable objects like lists cannot do.\n",
        "\n",
        "Example\n",
        "# Create a tuple\n",
        "my_tuple = (1, 2, 3)\n",
        "# my_tuple[0] = 4  # This will cause a TypeError\n"
      ],
      "metadata": {
        "id": "qt6lCiMtmwdc"
      }
    },
    {
      "cell_type": "markdown",
      "source": [
        "Q16 What is a nested dictionary, and give an example of its use case\n",
        "\n",
        "Ans16 A nested dictionary in Python is a dictionary whose values are themselves dictionaries. This allows for creating complex data structures with multiple levels of organization, where each level is a dictionary.\n",
        "\n",
        "example-:\n",
        "company_org_chart = {\n",
        "    \"Marketing\": {\n",
        "        \"ID234\": \"Jane Smith\",\n",
        "        \"ID235\": \"John Doe\"\n",
        "    },\n",
        "    \"Sales\": {\n",
        "        \"ID123\": \"Bob Johnson\",\n",
        "        \"ID122\": \"David Lee\"\n",
        "    },\n",
        "    \"Engineering\": {\n",
        "        \"ID303\": \"Radhika Potlapally\",\n",
        "        \"ID321\": \"Maryam Samimi\"\n",
        "    }\n",
        "\n"
      ],
      "metadata": {
        "id": "tYDRaMWAPQcA"
      }
    },
    {
      "cell_type": "markdown",
      "source": [
        "Q17 Describe the time complexity of accessing elements in a dictionary\n",
        "\n",
        "Ans17 The time complexity of accessing an element in a dictionary is O(1), also known as constant time. This means that accessing a value by its key takes the same amount of time regardless of the dictionary's size. Dictionaries use a hash table to store elements, allowing for efficient lookups.\n",
        "Explanation:\n",
        "Hash Table:\n",
        "Dictionaries internally use a hash table. A hash table stores elements in \"buckets\" based on a hash function that maps keys to indices in the table.\n",
        "Constant Time Lookup:\n",
        "When you access a value using its key, the hash function quickly calculates the corresponding index, allowing direct access to the element. This direct access makes the lookup process independent of the dictionary's size, resulting in O(1) complexity.\n",
        "\n"
      ],
      "metadata": {
        "id": "zWwEfsXJP3ap"
      }
    },
    {
      "cell_type": "markdown",
      "source": [
        "Q18 In what situations are lists preferred over dictionaries\n",
        "\n",
        "Ans18 For quick data look-ups, configurations, or caches, favor dictionaries. For ordered collections and sequence operations, such as maintaining a stack or queue, lists are more suitable.\n",
        "\n"
      ],
      "metadata": {
        "id": "-494PdSoQWcu"
      }
    },
    {
      "cell_type": "markdown",
      "source": [
        "Q19 Why are dictionaries considered unordered, and how does that affect data retrieval\n",
        "\n",
        "Ans 19 A dictionary is termed an unordered collection of objects because dictionaries do not maintain any inherent order of the items based on when they were added\n"
      ],
      "metadata": {
        "id": "8qLyuaGIQ1S3"
      }
    },
    {
      "cell_type": "markdown",
      "source": [
        "Q20  Explain the difference between a list and a dictionary in terms of data retrieval.\n",
        "\n",
        "Ans 20 In terms of data retrieval, a list accesses elements by their index (a numerical position starting from 0), while a dictionary accesses elements by their key (a unique identifier of any data type). Dictionaries offer faster retrieval than lists because they use a hash function to directly map keys to values.\n",
        "\n"
      ],
      "metadata": {
        "id": "WpZZ3CyoRaV5"
      }
    },
    {
      "cell_type": "markdown",
      "source": [
        "PRATICAL QUESTIONS"
      ],
      "metadata": {
        "id": "_cqX4aDHVEuE"
      }
    },
    {
      "cell_type": "markdown",
      "source": [
        "Q1.Write a code to create a string with your name and print it\n"
      ],
      "metadata": {
        "id": "u5Gcn3fmVH_5"
      }
    },
    {
      "cell_type": "code",
      "source": [
        "#string\n",
        "print (\"shubham\")"
      ],
      "metadata": {
        "colab": {
          "base_uri": "https://localhost:8080/"
        },
        "id": "pRHgXTS-VRkv",
        "outputId": "6171d522-48f4-4121-a602-5e755a3e870e"
      },
      "execution_count": null,
      "outputs": [
        {
          "output_type": "stream",
          "name": "stdout",
          "text": [
            "shubham\n"
          ]
        }
      ]
    },
    {
      "cell_type": "markdown",
      "source": [
        "Q2.Write a code to find the length of the string \"Hello World\n"
      ],
      "metadata": {
        "id": "nq8lht2QmbuP"
      }
    },
    {
      "cell_type": "code",
      "source": [
        "STRING = \"Hello World\"\n",
        "len(STRING)"
      ],
      "metadata": {
        "colab": {
          "base_uri": "https://localhost:8080/"
        },
        "id": "OaPqMbgGVakZ",
        "outputId": "1a5a9d7e-bbb7-43f3-e675-00ade7a2f4de"
      },
      "execution_count": null,
      "outputs": [
        {
          "output_type": "execute_result",
          "data": {
            "text/plain": [
              "11"
            ]
          },
          "metadata": {},
          "execution_count": 7
        }
      ]
    },
    {
      "cell_type": "markdown",
      "source": [
        " Q3.Write a code to slice the first 3 characters from the string \"Python Programming\n"
      ],
      "metadata": {
        "id": "h0reSAx0mmXU"
      }
    },
    {
      "cell_type": "code",
      "source": [
        "text = \"Python Programming\"\n",
        "slice_text = text[:3]\n",
        "print(slice_text)\n",
        "#"
      ],
      "metadata": {
        "id": "DL_KZ-oHmJ0F",
        "colab": {
          "base_uri": "https://localhost:8080/"
        },
        "outputId": "8290a408-e75b-4b29-fef4-a80fbee7c810"
      },
      "execution_count": 8,
      "outputs": [
        {
          "output_type": "stream",
          "name": "stdout",
          "text": [
            "Pyt\n"
          ]
        }
      ]
    },
    {
      "cell_type": "markdown",
      "source": [
        "Q3. Write a code to convert the string \"hello\" to uppercase\n"
      ],
      "metadata": {
        "id": "ws8Di3bdnh8H"
      }
    },
    {
      "cell_type": "code",
      "source": [
        "code = \"print\"\n",
        "code.upper()"
      ],
      "metadata": {
        "colab": {
          "base_uri": "https://localhost:8080/",
          "height": 36
        },
        "id": "OH_huZNInto1",
        "outputId": "84be863b-164b-4af4-dccd-acd04782c746"
      },
      "execution_count": 10,
      "outputs": [
        {
          "output_type": "execute_result",
          "data": {
            "text/plain": [
              "'PRINT'"
            ],
            "application/vnd.google.colaboratory.intrinsic+json": {
              "type": "string"
            }
          },
          "metadata": {},
          "execution_count": 10
        }
      ]
    },
    {
      "cell_type": "markdown",
      "source": [
        "Q4. Write a code to replace the word \"apple\" with \"orange\" in the string \"I like apple\"\n"
      ],
      "metadata": {
        "id": "CXSI4fxQoEaO"
      }
    },
    {
      "cell_type": "code",
      "source": [
        "string = (\"ilike apple\")\n",
        "string.replace(\"apple\", \"orange\")"
      ],
      "metadata": {
        "colab": {
          "base_uri": "https://localhost:8080/",
          "height": 36
        },
        "id": "fBoB2txdoIkC",
        "outputId": "cf59d76f-0139-49ec-c655-582f2f2c8128"
      },
      "execution_count": 11,
      "outputs": [
        {
          "output_type": "execute_result",
          "data": {
            "text/plain": [
              "'ilike orange'"
            ],
            "application/vnd.google.colaboratory.intrinsic+json": {
              "type": "string"
            }
          },
          "metadata": {},
          "execution_count": 11
        }
      ]
    },
    {
      "cell_type": "markdown",
      "source": [
        "Q5 Write a code to create a list with numbers 1 to 5 and print it\n"
      ],
      "metadata": {
        "id": "EYF0PuJvoZJ9"
      }
    },
    {
      "cell_type": "code",
      "source": [
        "LIST = [1,2,3,4,5]"
      ],
      "metadata": {
        "id": "3RNwJ3KWokwI"
      },
      "execution_count": 12,
      "outputs": []
    },
    {
      "cell_type": "code",
      "source": [
        "LIST\n"
      ],
      "metadata": {
        "colab": {
          "base_uri": "https://localhost:8080/"
        },
        "id": "1eRlRZZ7ork1",
        "outputId": "86e5b3a1-45b7-466d-e2ab-544b5f0b9a0a"
      },
      "execution_count": 13,
      "outputs": [
        {
          "output_type": "execute_result",
          "data": {
            "text/plain": [
              "[1, 2, 3, 4, 5]"
            ]
          },
          "metadata": {},
          "execution_count": 13
        }
      ]
    },
    {
      "cell_type": "markdown",
      "source": [
        "Q6 Write a code to append the number 10 to the list [1, 2, 3, 4]\n"
      ],
      "metadata": {
        "id": "EQCCo-CvozP9"
      }
    },
    {
      "cell_type": "code",
      "source": [
        "LIST = [1,2,3,4]\n",
        "LIST.append(10)"
      ],
      "metadata": {
        "id": "Jc--rJWMo7E7"
      },
      "execution_count": 14,
      "outputs": []
    },
    {
      "cell_type": "code",
      "source": [
        "LIST"
      ],
      "metadata": {
        "colab": {
          "base_uri": "https://localhost:8080/"
        },
        "id": "DaQ_418to-em",
        "outputId": "78ca62c4-a7d8-4950-db28-081d95f20c4e"
      },
      "execution_count": 15,
      "outputs": [
        {
          "output_type": "execute_result",
          "data": {
            "text/plain": [
              "[1, 2, 3, 4, 10]"
            ]
          },
          "metadata": {},
          "execution_count": 15
        }
      ]
    },
    {
      "cell_type": "markdown",
      "source": [
        "Q7 Write a code to remove the number 3 from the list [1, 2, 3, 4, 5]\n"
      ],
      "metadata": {
        "id": "QMbFZKN8pCDd"
      }
    },
    {
      "cell_type": "code",
      "source": [
        "LIST = [1,2,3,4,5]\n",
        "LIST.remove(3)"
      ],
      "metadata": {
        "id": "mYkRylcgpIxN"
      },
      "execution_count": 16,
      "outputs": []
    },
    {
      "cell_type": "code",
      "source": [
        "LIST"
      ],
      "metadata": {
        "colab": {
          "base_uri": "https://localhost:8080/"
        },
        "id": "B9vfiQ0JpMUw",
        "outputId": "0df2f32e-a68f-48c2-b37e-93ba28d60084"
      },
      "execution_count": 17,
      "outputs": [
        {
          "output_type": "execute_result",
          "data": {
            "text/plain": [
              "[1, 2, 4, 5]"
            ]
          },
          "metadata": {},
          "execution_count": 17
        }
      ]
    },
    {
      "cell_type": "markdown",
      "source": [
        "Q8. Write a code to access the second element in the list ['a', 'b', 'c', 'd']\n"
      ],
      "metadata": {
        "id": "As2nJpo5pQRe"
      }
    },
    {
      "cell_type": "code",
      "source": [
        "LIST = ['a', 'b', 'c', 'd']\n",
        "LIST[1]"
      ],
      "metadata": {
        "colab": {
          "base_uri": "https://localhost:8080/",
          "height": 36
        },
        "id": "BBMJDT1epYwu",
        "outputId": "f8764ec6-4bd5-4575-cc61-de45fc0f048e"
      },
      "execution_count": 18,
      "outputs": [
        {
          "output_type": "execute_result",
          "data": {
            "text/plain": [
              "'b'"
            ],
            "application/vnd.google.colaboratory.intrinsic+json": {
              "type": "string"
            }
          },
          "metadata": {},
          "execution_count": 18
        }
      ]
    },
    {
      "cell_type": "markdown",
      "source": [
        "Q9. Write a code to reverse the list [10, 20, 30, 40, 50].\n"
      ],
      "metadata": {
        "id": "LYIxFhoxpobK"
      }
    },
    {
      "cell_type": "code",
      "source": [
        "LIST = [10,20,30,40,50]\n",
        "LIST.reverse()"
      ],
      "metadata": {
        "id": "Hr1CpbLspxN8"
      },
      "execution_count": 19,
      "outputs": []
    },
    {
      "cell_type": "code",
      "source": [
        "LIST"
      ],
      "metadata": {
        "colab": {
          "base_uri": "https://localhost:8080/"
        },
        "id": "feac_zNep_q4",
        "outputId": "c1d9c51f-c54c-4047-f797-12bc08f87c59"
      },
      "execution_count": 20,
      "outputs": [
        {
          "output_type": "execute_result",
          "data": {
            "text/plain": [
              "[50, 40, 30, 20, 10]"
            ]
          },
          "metadata": {},
          "execution_count": 20
        }
      ]
    },
    {
      "cell_type": "markdown",
      "source": [
        "Q11 Write a code to create a tuple with the elements 100, 200, 300 and print it."
      ],
      "metadata": {
        "id": "KUYOzv0GqEFC"
      }
    },
    {
      "cell_type": "code",
      "source": [
        "TUPLE = (100,200,300)"
      ],
      "metadata": {
        "id": "2JFL_FfYqLXV"
      },
      "execution_count": 21,
      "outputs": []
    },
    {
      "cell_type": "code",
      "source": [
        "type(TUPLE)"
      ],
      "metadata": {
        "colab": {
          "base_uri": "https://localhost:8080/"
        },
        "id": "3C000L6JqgHn",
        "outputId": "788c2dc3-12f4-4635-dd0d-c8b2c0a5f64c"
      },
      "execution_count": 22,
      "outputs": [
        {
          "output_type": "execute_result",
          "data": {
            "text/plain": [
              "tuple"
            ]
          },
          "metadata": {},
          "execution_count": 22
        }
      ]
    },
    {
      "cell_type": "code",
      "source": [
        "TUPLE"
      ],
      "metadata": {
        "colab": {
          "base_uri": "https://localhost:8080/"
        },
        "id": "l0bo3xkmqoR3",
        "outputId": "f26dc87e-13dc-4c38-d1fe-cc13cf5c21fe"
      },
      "execution_count": 23,
      "outputs": [
        {
          "output_type": "execute_result",
          "data": {
            "text/plain": [
              "(100, 200, 300)"
            ]
          },
          "metadata": {},
          "execution_count": 23
        }
      ]
    },
    {
      "cell_type": "markdown",
      "source": [
        "Q12. Write a code to access the second-to-last element of the tuple ('red', 'green', 'blue', 'yellow')."
      ],
      "metadata": {
        "id": "LTX7QMSRqvlo"
      }
    },
    {
      "cell_type": "code",
      "source": [
        "TUPLE = ('red', 'green', 'blue', 'yellow')\n",
        "TUPLE[-2]\n",
        "#"
      ],
      "metadata": {
        "colab": {
          "base_uri": "https://localhost:8080/",
          "height": 36
        },
        "id": "eON9MrWXq0zv",
        "outputId": "77f96f73-c152-491f-c21a-7aedbb11ce26"
      },
      "execution_count": 24,
      "outputs": [
        {
          "output_type": "execute_result",
          "data": {
            "text/plain": [
              "'blue'"
            ],
            "application/vnd.google.colaboratory.intrinsic+json": {
              "type": "string"
            }
          },
          "metadata": {},
          "execution_count": 24
        }
      ]
    },
    {
      "cell_type": "markdown",
      "source": [
        "Q13. Write a code to find the minimum number in the tuple (10, 20, 5, 15)."
      ],
      "metadata": {
        "id": "jpju7ZXBrGIj"
      }
    },
    {
      "cell_type": "code",
      "source": [
        "TUPLE = (10, 20, 5, 15)\n",
        "min(TUPLE)"
      ],
      "metadata": {
        "colab": {
          "base_uri": "https://localhost:8080/"
        },
        "id": "YHTlq9T-rIAJ",
        "outputId": "89683d05-26b0-4749-ef0a-ed3fd638e0f1"
      },
      "execution_count": 25,
      "outputs": [
        {
          "output_type": "execute_result",
          "data": {
            "text/plain": [
              "5"
            ]
          },
          "metadata": {},
          "execution_count": 25
        }
      ]
    },
    {
      "cell_type": "markdown",
      "source": [
        "Q14. Write a code to find the index of the element \"cat\" in the tuple ('dog', 'cat', 'rabbit')."
      ],
      "metadata": {
        "id": "bt6pdgJFrUCz"
      }
    },
    {
      "cell_type": "code",
      "source": [
        "TUPLE = ('dog', 'cat', 'rabbit')\n",
        "TUPLE.index('cat')\n",
        "#"
      ],
      "metadata": {
        "colab": {
          "base_uri": "https://localhost:8080/"
        },
        "id": "lRDr0WO3rWOV",
        "outputId": "7ff494c2-6485-4d6b-f7c9-61c26398b1d3"
      },
      "execution_count": 26,
      "outputs": [
        {
          "output_type": "execute_result",
          "data": {
            "text/plain": [
              "1"
            ]
          },
          "metadata": {},
          "execution_count": 26
        }
      ]
    },
    {
      "cell_type": "markdown",
      "source": [
        "Q15. Write a code to create a tuple containing three different fruits and check if \"kiwi\" is in it."
      ],
      "metadata": {
        "id": "9PmGS6a6rjNe"
      }
    },
    {
      "cell_type": "code",
      "source": [
        "TUPLE = ('apple', 'banana', 'kiwi')\n",
        "'kiwi' in TUPLE"
      ],
      "metadata": {
        "colab": {
          "base_uri": "https://localhost:8080/"
        },
        "id": "0R_HxpFVrlGH",
        "outputId": "58298c5e-3105-4889-afd8-f8fe5593f8d7"
      },
      "execution_count": 27,
      "outputs": [
        {
          "output_type": "execute_result",
          "data": {
            "text/plain": [
              "True"
            ]
          },
          "metadata": {},
          "execution_count": 27
        }
      ]
    },
    {
      "cell_type": "markdown",
      "source": [
        "Q16. Write a code to create a set with the elements 'a', 'b', 'c' and print it."
      ],
      "metadata": {
        "id": "BiyMpM3iry-j"
      }
    },
    {
      "cell_type": "code",
      "source": [
        "S = {\"a\",\"b\",\"c\"}"
      ],
      "metadata": {
        "id": "AheyNOGHr0p3"
      },
      "execution_count": 28,
      "outputs": []
    },
    {
      "cell_type": "code",
      "source": [
        "type(S)"
      ],
      "metadata": {
        "colab": {
          "base_uri": "https://localhost:8080/"
        },
        "id": "iYnwEp9zsmRz",
        "outputId": "89959e94-d402-413c-cafe-61a5c776a4dd"
      },
      "execution_count": 30,
      "outputs": [
        {
          "output_type": "execute_result",
          "data": {
            "text/plain": [
              "set"
            ]
          },
          "metadata": {},
          "execution_count": 30
        }
      ]
    },
    {
      "cell_type": "code",
      "source": [
        "S"
      ],
      "metadata": {
        "colab": {
          "base_uri": "https://localhost:8080/"
        },
        "id": "LSljtpLHspso",
        "outputId": "62d6825f-1344-4edf-ce4f-306210dd6833"
      },
      "execution_count": 31,
      "outputs": [
        {
          "output_type": "execute_result",
          "data": {
            "text/plain": [
              "{'a', 'b', 'c'}"
            ]
          },
          "metadata": {},
          "execution_count": 31
        }
      ]
    },
    {
      "cell_type": "markdown",
      "source": [
        "Q17. Write a code to clear all elements from the set {1, 2, 3, 4, 5}."
      ],
      "metadata": {
        "id": "y1l8LwwvsxaJ"
      }
    },
    {
      "cell_type": "code",
      "source": [
        "S = {1, 2, 3, 4, 5}\n",
        "S.clear()"
      ],
      "metadata": {
        "id": "Mv8734fOs2xm"
      },
      "execution_count": 32,
      "outputs": []
    },
    {
      "cell_type": "code",
      "source": [
        "S"
      ],
      "metadata": {
        "colab": {
          "base_uri": "https://localhost:8080/"
        },
        "id": "e_-QW082s8Sx",
        "outputId": "444afe5c-25c3-441a-b4ce-65e5514e6cef"
      },
      "execution_count": 33,
      "outputs": [
        {
          "output_type": "execute_result",
          "data": {
            "text/plain": [
              "set()"
            ]
          },
          "metadata": {},
          "execution_count": 33
        }
      ]
    },
    {
      "cell_type": "markdown",
      "source": [
        "Q18. Write a code to remove the element 4 from the set {1, 2, 3, 4}."
      ],
      "metadata": {
        "id": "4xnoNZvItC7-"
      }
    },
    {
      "cell_type": "code",
      "source": [
        "S = {1, 2, 3, 4}\n",
        "S.remove(4)"
      ],
      "metadata": {
        "id": "QoC0AWI5tEkE"
      },
      "execution_count": 34,
      "outputs": []
    },
    {
      "cell_type": "code",
      "source": [
        "S"
      ],
      "metadata": {
        "colab": {
          "base_uri": "https://localhost:8080/"
        },
        "id": "iT4WLWsitHsF",
        "outputId": "cae365a9-73c1-4428-e195-f0097ca51da4"
      },
      "execution_count": 35,
      "outputs": [
        {
          "output_type": "execute_result",
          "data": {
            "text/plain": [
              "{1, 2, 3}"
            ]
          },
          "metadata": {},
          "execution_count": 35
        }
      ]
    },
    {
      "cell_type": "markdown",
      "source": [
        "Q19. Write a code to find the union of two sets {1, 2, 3} and {3, 4, 5}."
      ],
      "metadata": {
        "id": "lcv4JBI_tKbX"
      }
    },
    {
      "cell_type": "code",
      "source": [
        "S = {1, 2, 3}\n",
        "S1 = {3, 4, 5}\n",
        "S.union(S1)"
      ],
      "metadata": {
        "colab": {
          "base_uri": "https://localhost:8080/"
        },
        "id": "A-jqJEK4tN3N",
        "outputId": "c932f0fc-3b6e-48df-e0c7-e83e0631983a"
      },
      "execution_count": 36,
      "outputs": [
        {
          "output_type": "execute_result",
          "data": {
            "text/plain": [
              "{1, 2, 3, 4, 5}"
            ]
          },
          "metadata": {},
          "execution_count": 36
        }
      ]
    },
    {
      "cell_type": "markdown",
      "source": [
        "\n",
        "Q20. Write a code to find the intersection of two sets {1, 2, 3} and {2, 3, 4}."
      ],
      "metadata": {
        "id": "-o04CA1VtzY4"
      }
    },
    {
      "cell_type": "code",
      "source": [
        "S = {1, 2, 3}\n",
        "S1 = {2, 3, 4}\n",
        "S.intersection(S1)"
      ],
      "metadata": {
        "colab": {
          "base_uri": "https://localhost:8080/"
        },
        "id": "FwmjZc0Vt3D7",
        "outputId": "35e7f7a2-5f06-4bfb-b84f-f57eeeb88e41"
      },
      "execution_count": 37,
      "outputs": [
        {
          "output_type": "execute_result",
          "data": {
            "text/plain": [
              "{2, 3}"
            ]
          },
          "metadata": {},
          "execution_count": 37
        }
      ]
    },
    {
      "cell_type": "markdown",
      "source": [
        "Q21. Write a code to create a dictionary with the keys \"name\", \"age\", and \"city\", and print it."
      ],
      "metadata": {
        "id": "3iiXnDRLuGEZ"
      }
    },
    {
      "cell_type": "code",
      "source": [
        "dict = {\"name\": \"shubham\", \"age\": 22, \"city\": \"pune\"}"
      ],
      "metadata": {
        "id": "lLPEZNYmuIOC"
      },
      "execution_count": 38,
      "outputs": []
    },
    {
      "cell_type": "code",
      "source": [
        "type(dict)"
      ],
      "metadata": {
        "colab": {
          "base_uri": "https://localhost:8080/"
        },
        "id": "nx5qpBxHuPU7",
        "outputId": "6abc55fc-fb8a-4986-c5cf-41685b859c63"
      },
      "execution_count": 39,
      "outputs": [
        {
          "output_type": "execute_result",
          "data": {
            "text/plain": [
              "dict"
            ]
          },
          "metadata": {},
          "execution_count": 39
        }
      ]
    },
    {
      "cell_type": "code",
      "source": [
        "dict"
      ],
      "metadata": {
        "colab": {
          "base_uri": "https://localhost:8080/"
        },
        "id": "Ym8c-Ox0uRzD",
        "outputId": "33ead762-f6da-4cd8-cd28-2796361f8844"
      },
      "execution_count": 40,
      "outputs": [
        {
          "output_type": "execute_result",
          "data": {
            "text/plain": [
              "{'name': 'shubham', 'age': 22, 'city': 'pune'}"
            ]
          },
          "metadata": {},
          "execution_count": 40
        }
      ]
    },
    {
      "cell_type": "markdown",
      "source": [
        "Q22. Write a code to add a new key-value pair \"country\": \"USA\" to the dictionary {'name': 'John', 'age': 25}."
      ],
      "metadata": {
        "id": "sQN0SRkwuY8k"
      }
    },
    {
      "cell_type": "code",
      "source": [
        "dict = {'name': 'John', 'age': 25}\n",
        "dict[\"country\"] = \"USA\""
      ],
      "metadata": {
        "id": "wAFtmGy6ueXp"
      },
      "execution_count": 41,
      "outputs": []
    },
    {
      "cell_type": "code",
      "source": [
        "dict"
      ],
      "metadata": {
        "colab": {
          "base_uri": "https://localhost:8080/"
        },
        "id": "EdbWNXZSul8X",
        "outputId": "752e5453-6c9c-4fef-e380-2ceb0e71f754"
      },
      "execution_count": 42,
      "outputs": [
        {
          "output_type": "execute_result",
          "data": {
            "text/plain": [
              "{'name': 'John', 'age': 25, 'country': 'USA'}"
            ]
          },
          "metadata": {},
          "execution_count": 42
        }
      ]
    },
    {
      "cell_type": "markdown",
      "source": [
        "Q23. Write a code to access the value associated with the key \"name\" in the dictionary {'name': 'Alice', 'age': 30}."
      ],
      "metadata": {
        "id": "neZs9y4quqpz"
      }
    },
    {
      "cell_type": "code",
      "source": [
        "dict = {'name': 'Alice', 'age': 30}\n",
        "dict[\"name\"]\n",
        "#"
      ],
      "metadata": {
        "colab": {
          "base_uri": "https://localhost:8080/",
          "height": 36
        },
        "id": "Wy2NF0CXuwFT",
        "outputId": "91c520b0-c5fc-435b-da85-65ec0aa95c60"
      },
      "execution_count": 43,
      "outputs": [
        {
          "output_type": "execute_result",
          "data": {
            "text/plain": [
              "'Alice'"
            ],
            "application/vnd.google.colaboratory.intrinsic+json": {
              "type": "string"
            }
          },
          "metadata": {},
          "execution_count": 43
        }
      ]
    },
    {
      "cell_type": "markdown",
      "source": [
        "Q24. Write a code to remove the key \"age\" from the dictionary {'name': 'Bob', 'age': 22, 'city': 'New York'}."
      ],
      "metadata": {
        "id": "Kgok3e5jvDp7"
      }
    },
    {
      "cell_type": "code",
      "source": [
        "dict = {'name': 'Bob', 'age': 22, 'city': 'New York'}\n",
        "dict.pop(\"age\")"
      ],
      "metadata": {
        "colab": {
          "base_uri": "https://localhost:8080/"
        },
        "id": "yj_GqHWYvGGo",
        "outputId": "214dd849-d823-43cd-c32b-85a707923cad"
      },
      "execution_count": 44,
      "outputs": [
        {
          "output_type": "execute_result",
          "data": {
            "text/plain": [
              "22"
            ]
          },
          "metadata": {},
          "execution_count": 44
        }
      ]
    },
    {
      "cell_type": "code",
      "source": [
        "dict"
      ],
      "metadata": {
        "colab": {
          "base_uri": "https://localhost:8080/"
        },
        "id": "RF14wemEvR_W",
        "outputId": "eea4ea10-454a-4cce-959f-28a675cb99f5"
      },
      "execution_count": 45,
      "outputs": [
        {
          "output_type": "execute_result",
          "data": {
            "text/plain": [
              "{'name': 'Bob', 'city': 'New York'}"
            ]
          },
          "metadata": {},
          "execution_count": 45
        }
      ]
    },
    {
      "cell_type": "markdown",
      "source": [
        "Q25. Write a code to check if the key \"city\" exists in the dictionary {'name': 'Alice', 'city': 'Paris'}."
      ],
      "metadata": {
        "id": "9qx9E7cKvan4"
      }
    },
    {
      "cell_type": "code",
      "source": [
        "dict = {'name': 'Alice', 'city': 'Paris'}\n",
        "\"city\" in dict\n",
        "#"
      ],
      "metadata": {
        "colab": {
          "base_uri": "https://localhost:8080/"
        },
        "id": "Kan8HJJ7vdB9",
        "outputId": "798f07d9-1a03-4159-d294-2395a0bbfdc9"
      },
      "execution_count": 46,
      "outputs": [
        {
          "output_type": "execute_result",
          "data": {
            "text/plain": [
              "True"
            ]
          },
          "metadata": {},
          "execution_count": 46
        }
      ]
    },
    {
      "cell_type": "markdown",
      "source": [
        "Q26. Write a code to create a list, a tuple, and a dictionary, and print them all."
      ],
      "metadata": {
        "id": "mwiY-4w-v1xY"
      }
    },
    {
      "cell_type": "code",
      "source": [
        "LIST = [1,2,3,4,5]\n",
        "TUPLE = (1,2,3,4,5)\n",
        "dict = {\"name\": \"shubham\", \"age\": 22, \"city\": \"pune\"}"
      ],
      "metadata": {
        "id": "aSYjRVQYv30y"
      },
      "execution_count": 47,
      "outputs": []
    },
    {
      "cell_type": "code",
      "source": [
        "type(LIST)"
      ],
      "metadata": {
        "colab": {
          "base_uri": "https://localhost:8080/"
        },
        "id": "624q63QtwcZF",
        "outputId": "5774e22b-4393-40be-ba3d-791410a7b7de"
      },
      "execution_count": 48,
      "outputs": [
        {
          "output_type": "execute_result",
          "data": {
            "text/plain": [
              "list"
            ]
          },
          "metadata": {},
          "execution_count": 48
        }
      ]
    },
    {
      "cell_type": "code",
      "source": [
        "type(TUPLE)"
      ],
      "metadata": {
        "colab": {
          "base_uri": "https://localhost:8080/"
        },
        "id": "7vtLbwU9wge9",
        "outputId": "9ec46e07-0bdb-42a9-90d6-a59d3c4f3ef8"
      },
      "execution_count": 49,
      "outputs": [
        {
          "output_type": "execute_result",
          "data": {
            "text/plain": [
              "tuple"
            ]
          },
          "metadata": {},
          "execution_count": 49
        }
      ]
    },
    {
      "cell_type": "code",
      "source": [
        "type(dict)"
      ],
      "metadata": {
        "colab": {
          "base_uri": "https://localhost:8080/"
        },
        "id": "3F7RbR0Ywkv2",
        "outputId": "01e794b9-3c4d-48b5-c940-dcb283dd4144"
      },
      "execution_count": 50,
      "outputs": [
        {
          "output_type": "execute_result",
          "data": {
            "text/plain": [
              "dict"
            ]
          },
          "metadata": {},
          "execution_count": 50
        }
      ]
    },
    {
      "cell_type": "markdown",
      "source": [
        "Q27. Write a code to create a list of 5 random numbers between 1 and 100, sort it in ascending order, and print the\n",
        "result.(replaced)"
      ],
      "metadata": {
        "id": "3LEIc2Fywt2O"
      }
    },
    {
      "cell_type": "code",
      "source": [
        "LIST = (2,80,8,90)\n",
        "SORTED_LIST = sorted(LIST)\n",
        "print(SORTED_LIST)\n",
        "#"
      ],
      "metadata": {
        "colab": {
          "base_uri": "https://localhost:8080/"
        },
        "id": "1T5FJkrLwwdX",
        "outputId": "554f12cf-461f-4731-9331-15edde45ed76"
      },
      "execution_count": 55,
      "outputs": [
        {
          "output_type": "stream",
          "name": "stdout",
          "text": [
            "[2, 8, 80, 90]\n"
          ]
        }
      ]
    },
    {
      "cell_type": "markdown",
      "source": [
        "Q28. Write a code to create a list with strings and print the element at the third index."
      ],
      "metadata": {
        "id": "LaTwN4styDH2"
      }
    },
    {
      "cell_type": "code",
      "source": [
        "shoping_list = [\"apples\", 2, \"milk\", True]\n",
        "shoping_list[2]"
      ],
      "metadata": {
        "colab": {
          "base_uri": "https://localhost:8080/",
          "height": 36
        },
        "id": "6jQu6J-cyHu_",
        "outputId": "41f8e926-4527-40fe-b790-5b0e5fcead70"
      },
      "execution_count": 56,
      "outputs": [
        {
          "output_type": "execute_result",
          "data": {
            "text/plain": [
              "'milk'"
            ],
            "application/vnd.google.colaboratory.intrinsic+json": {
              "type": "string"
            }
          },
          "metadata": {},
          "execution_count": 56
        }
      ]
    },
    {
      "cell_type": "markdown",
      "source": [
        "Q29. Write a code to combine two dictionaries into one and print the result."
      ],
      "metadata": {
        "id": "6_qs2N5RyXIC"
      }
    },
    {
      "cell_type": "code",
      "source": [
        "dict = {\"name\": \"shubham\", \"age\": 22, \"city\": \"pune\"}\n",
        "dict1 = {\"name\": \"shubham\", \"age\": 22, \"address\": \"jln marg\"}\n",
        "dict.update(dict1)"
      ],
      "metadata": {
        "id": "b1OqvANnyZJ8"
      },
      "execution_count": 59,
      "outputs": []
    },
    {
      "cell_type": "code",
      "source": [
        "dict"
      ],
      "metadata": {
        "colab": {
          "base_uri": "https://localhost:8080/"
        },
        "id": "mqQF_TeYyfMA",
        "outputId": "76d0fb23-4cdb-4e5b-8aa3-cd46e62573e8"
      },
      "execution_count": 60,
      "outputs": [
        {
          "output_type": "execute_result",
          "data": {
            "text/plain": [
              "{'name': 'shubham', 'age': 22, 'city': 'pune', 'address': 'jln marg'}"
            ]
          },
          "metadata": {},
          "execution_count": 60
        }
      ]
    },
    {
      "cell_type": "markdown",
      "source": [
        "Q30. Write a code to convert a list of strings into a set."
      ],
      "metadata": {
        "id": "e8sG0jHxy_z1"
      }
    },
    {
      "cell_type": "code",
      "source": [
        "S = {\"shubham\",\"khushi\", \"shubham\"}\n",
        "s = set(S)"
      ],
      "metadata": {
        "id": "J5FpOd7mzqOG"
      },
      "execution_count": 63,
      "outputs": []
    },
    {
      "cell_type": "code",
      "source": [
        "s"
      ],
      "metadata": {
        "colab": {
          "base_uri": "https://localhost:8080/"
        },
        "id": "U9smuFJhz7aQ",
        "outputId": "ee08825c-4328-4a8e-b883-385c7a4fe191"
      },
      "execution_count": 64,
      "outputs": [
        {
          "output_type": "execute_result",
          "data": {
            "text/plain": [
              "{'khushi', 'shubham'}"
            ]
          },
          "metadata": {},
          "execution_count": 64
        }
      ]
    },
    {
      "cell_type": "code",
      "source": [],
      "metadata": {
        "id": "ZtLuaRIW0L2L"
      },
      "execution_count": null,
      "outputs": []
    }
  ]
}